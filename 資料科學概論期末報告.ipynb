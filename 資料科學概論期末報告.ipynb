{
  "nbformat": 4,
  "nbformat_minor": 0,
  "metadata": {
    "colab": {
      "name": "資料科學概論期末報告.ipynb",
      "version": "0.3.2",
      "provenance": []
    },
    "kernelspec": {
      "name": "python3",
      "display_name": "Python 3"
    }
  },
  "cells": [
    {
      "metadata": {
        "id": "57a-mzfGW1nR",
        "colab_type": "code",
        "colab": {
          "base_uri": "https://localhost:8080/",
          "height": 34
        },
        "outputId": "ca1c565b-64c2-495c-ee95-e5f941cba457"
      },
      "cell_type": "code",
      "source": [
        "import matplotlib.pyplot as plt\n",
        "import pandas as pd\n",
        "\n",
        "gapminder = pd.read_csv(\"city_mayor_long.csv\")\n",
        "gapminder.shape"
      ],
      "execution_count": 1,
      "outputs": [
        {
          "output_type": "execute_result",
          "data": {
            "text/plain": [
              "(38444, 7)"
            ]
          },
          "metadata": {
            "tags": []
          },
          "execution_count": 1
        }
      ]
    },
    {
      "metadata": {
        "id": "XtCEJ5ipXBht",
        "colab_type": "code",
        "colab": {
          "base_uri": "https://localhost:8080/",
          "height": 204
        },
        "outputId": "2656085f-c8bf-4f1e-8faf-02e71c5edfcf"
      },
      "cell_type": "code",
      "source": [
        "gapminder.head()"
      ],
      "execution_count": 2,
      "outputs": [
        {
          "output_type": "execute_result",
          "data": {
            "text/html": [
              "<div>\n",
              "<style scoped>\n",
              "    .dataframe tbody tr th:only-of-type {\n",
              "        vertical-align: middle;\n",
              "    }\n",
              "\n",
              "    .dataframe tbody tr th {\n",
              "        vertical-align: top;\n",
              "    }\n",
              "\n",
              "    .dataframe thead th {\n",
              "        text-align: right;\n",
              "    }\n",
              "</style>\n",
              "<table border=\"1\" class=\"dataframe\">\n",
              "  <thead>\n",
              "    <tr style=\"text-align: right;\">\n",
              "      <th></th>\n",
              "      <th>city</th>\n",
              "      <th>district</th>\n",
              "      <th>village</th>\n",
              "      <th>office</th>\n",
              "      <th>party</th>\n",
              "      <th>candidate</th>\n",
              "      <th>votes</th>\n",
              "    </tr>\n",
              "  </thead>\n",
              "  <tbody>\n",
              "    <tr>\n",
              "      <th>0</th>\n",
              "      <td>台北市</td>\n",
              "      <td>北投區</td>\n",
              "      <td>建民里</td>\n",
              "      <td>1</td>\n",
              "      <td>無黨籍</td>\n",
              "      <td>吳蕚洋</td>\n",
              "      <td>4</td>\n",
              "    </tr>\n",
              "    <tr>\n",
              "      <th>1</th>\n",
              "      <td>台北市</td>\n",
              "      <td>北投區</td>\n",
              "      <td>建民里</td>\n",
              "      <td>2</td>\n",
              "      <td>無黨籍</td>\n",
              "      <td>吳蕚洋</td>\n",
              "      <td>2</td>\n",
              "    </tr>\n",
              "    <tr>\n",
              "      <th>2</th>\n",
              "      <td>台北市</td>\n",
              "      <td>北投區</td>\n",
              "      <td>建民里</td>\n",
              "      <td>3</td>\n",
              "      <td>無黨籍</td>\n",
              "      <td>吳蕚洋</td>\n",
              "      <td>2</td>\n",
              "    </tr>\n",
              "    <tr>\n",
              "      <th>3</th>\n",
              "      <td>台北市</td>\n",
              "      <td>北投區</td>\n",
              "      <td>文林里</td>\n",
              "      <td>4</td>\n",
              "      <td>無黨籍</td>\n",
              "      <td>吳蕚洋</td>\n",
              "      <td>1</td>\n",
              "    </tr>\n",
              "    <tr>\n",
              "      <th>4</th>\n",
              "      <td>台北市</td>\n",
              "      <td>北投區</td>\n",
              "      <td>文林里</td>\n",
              "      <td>5</td>\n",
              "      <td>無黨籍</td>\n",
              "      <td>吳蕚洋</td>\n",
              "      <td>5</td>\n",
              "    </tr>\n",
              "  </tbody>\n",
              "</table>\n",
              "</div>"
            ],
            "text/plain": [
              "  city district village  office party candidate  votes\n",
              "0  台北市      北投區     建民里       1   無黨籍       吳蕚洋      4\n",
              "1  台北市      北投區     建民里       2   無黨籍       吳蕚洋      2\n",
              "2  台北市      北投區     建民里       3   無黨籍       吳蕚洋      2\n",
              "3  台北市      北投區     文林里       4   無黨籍       吳蕚洋      1\n",
              "4  台北市      北投區     文林里       5   無黨籍       吳蕚洋      5"
            ]
          },
          "metadata": {
            "tags": []
          },
          "execution_count": 2
        }
      ]
    },
    {
      "metadata": {
        "id": "W887mztaXFPN",
        "colab_type": "code",
        "colab": {
          "base_uri": "https://localhost:8080/",
          "height": 204
        },
        "outputId": "d10cb0b2-d78a-4af1-b134-63fb124a78d8"
      },
      "cell_type": "code",
      "source": [
        "gapminder.tail()"
      ],
      "execution_count": 3,
      "outputs": [
        {
          "output_type": "execute_result",
          "data": {
            "text/html": [
              "<div>\n",
              "<style scoped>\n",
              "    .dataframe tbody tr th:only-of-type {\n",
              "        vertical-align: middle;\n",
              "    }\n",
              "\n",
              "    .dataframe tbody tr th {\n",
              "        vertical-align: top;\n",
              "    }\n",
              "\n",
              "    .dataframe thead th {\n",
              "        text-align: right;\n",
              "    }\n",
              "</style>\n",
              "<table border=\"1\" class=\"dataframe\">\n",
              "  <thead>\n",
              "    <tr style=\"text-align: right;\">\n",
              "      <th></th>\n",
              "      <th>city</th>\n",
              "      <th>district</th>\n",
              "      <th>village</th>\n",
              "      <th>office</th>\n",
              "      <th>party</th>\n",
              "      <th>candidate</th>\n",
              "      <th>votes</th>\n",
              "    </tr>\n",
              "  </thead>\n",
              "  <tbody>\n",
              "    <tr>\n",
              "      <th>38439</th>\n",
              "      <td>高雄市</td>\n",
              "      <td>林園區</td>\n",
              "      <td>廣應里</td>\n",
              "      <td>1819</td>\n",
              "      <td>無黨籍</td>\n",
              "      <td>蘇盈貴</td>\n",
              "      <td>5</td>\n",
              "    </tr>\n",
              "    <tr>\n",
              "      <th>38440</th>\n",
              "      <td>高雄市</td>\n",
              "      <td>林園區</td>\n",
              "      <td>五福里</td>\n",
              "      <td>1820</td>\n",
              "      <td>無黨籍</td>\n",
              "      <td>蘇盈貴</td>\n",
              "      <td>4</td>\n",
              "    </tr>\n",
              "    <tr>\n",
              "      <th>38441</th>\n",
              "      <td>高雄市</td>\n",
              "      <td>林園區</td>\n",
              "      <td>五福里</td>\n",
              "      <td>1821</td>\n",
              "      <td>無黨籍</td>\n",
              "      <td>蘇盈貴</td>\n",
              "      <td>2</td>\n",
              "    </tr>\n",
              "    <tr>\n",
              "      <th>38442</th>\n",
              "      <td>高雄市</td>\n",
              "      <td>林園區</td>\n",
              "      <td>中汕里</td>\n",
              "      <td>1822</td>\n",
              "      <td>無黨籍</td>\n",
              "      <td>蘇盈貴</td>\n",
              "      <td>10</td>\n",
              "    </tr>\n",
              "    <tr>\n",
              "      <th>38443</th>\n",
              "      <td>高雄市</td>\n",
              "      <td>林園區</td>\n",
              "      <td>中汕里</td>\n",
              "      <td>1823</td>\n",
              "      <td>無黨籍</td>\n",
              "      <td>蘇盈貴</td>\n",
              "      <td>7</td>\n",
              "    </tr>\n",
              "  </tbody>\n",
              "</table>\n",
              "</div>"
            ],
            "text/plain": [
              "      city district village  office party candidate  votes\n",
              "38439  高雄市      林園區     廣應里    1819   無黨籍       蘇盈貴      5\n",
              "38440  高雄市      林園區     五福里    1820   無黨籍       蘇盈貴      4\n",
              "38441  高雄市      林園區     五福里    1821   無黨籍       蘇盈貴      2\n",
              "38442  高雄市      林園區     中汕里    1822   無黨籍       蘇盈貴     10\n",
              "38443  高雄市      林園區     中汕里    1823   無黨籍       蘇盈貴      7"
            ]
          },
          "metadata": {
            "tags": []
          },
          "execution_count": 3
        }
      ]
    },
    {
      "metadata": {
        "id": "XSdahVWNXIqJ",
        "colab_type": "code",
        "colab": {
          "base_uri": "https://localhost:8080/",
          "height": 34
        },
        "outputId": "3114ad03-95fb-48a6-acdb-2d75b3d29e0f"
      },
      "cell_type": "code",
      "source": [
        "gapminder_文林里 = gapminder[gapminder[\"village\"] == \"文林里\"]\n",
        "gapminder_文林里.shape"
      ],
      "execution_count": 14,
      "outputs": [
        {
          "output_type": "execute_result",
          "data": {
            "text/plain": [
              "(21, 7)"
            ]
          },
          "metadata": {
            "tags": []
          },
          "execution_count": 14
        }
      ]
    },
    {
      "metadata": {
        "id": "HempDVtoXXrq",
        "colab_type": "code",
        "colab": {}
      },
      "cell_type": "code",
      "source": [
        "gapminder_party =gapminder_文林里. groupby(\"party\")"
      ],
      "execution_count": 0,
      "outputs": []
    },
    {
      "metadata": {
        "id": "ZTPMXPqZroJq",
        "colab_type": "code",
        "colab": {}
      },
      "cell_type": "code",
      "source": [
        "gapminder_votes =gapminder_party [\"votes\"].sum()"
      ],
      "execution_count": 0,
      "outputs": []
    },
    {
      "metadata": {
        "id": "H_7AZaW-sfzN",
        "colab_type": "code",
        "colab": {
          "base_uri": "https://localhost:8080/",
          "height": 34
        },
        "outputId": "cf8ab6be-b1fb-41e8-cfa2-a3e5527cc537"
      },
      "cell_type": "code",
      "source": [
        "gapminder_votes.index"
      ],
      "execution_count": 22,
      "outputs": [
        {
          "output_type": "execute_result",
          "data": {
            "text/plain": [
              "Index(['中國國民黨', '民主進步黨', '無黨籍'], dtype='object', name='party')"
            ]
          },
          "metadata": {
            "tags": []
          },
          "execution_count": 22
        }
      ]
    },
    {
      "metadata": {
        "id": "oyl_mhSMs-Kl",
        "colab_type": "code",
        "colab": {
          "base_uri": "https://localhost:8080/",
          "height": 34
        },
        "outputId": "fc7c49b1-c6ae-4f7d-e31a-afcb5b020158"
      },
      "cell_type": "code",
      "source": [
        "gapminder_votes.values"
      ],
      "execution_count": 23,
      "outputs": [
        {
          "output_type": "execute_result",
          "data": {
            "text/plain": [
              "array([2393, 1763, 1051])"
            ]
          },
          "metadata": {
            "tags": []
          },
          "execution_count": 23
        }
      ]
    },
    {
      "metadata": {
        "id": "M7KuMw5KtSb5",
        "colab_type": "code",
        "colab": {
          "base_uri": "https://localhost:8080/",
          "height": 376
        },
        "outputId": "c28f41e9-65e3-4b0f-dbe8-2b893018b410"
      },
      "cell_type": "code",
      "source": [
        "continent_cnts = len(gapminder_votes.values)\n",
        "plt.bar(range(continent_cnts), gapminder_votes.values)\n",
        "plt.xticks(range(continent_cnts), gapminder_votes.index)\n",
        "plt.title(\"How many votes in each party\")\n",
        "plt.xlabel(\"votes\")\n",
        "plt.ylabel(\"party\")\n",
        "plt.show()"
      ],
      "execution_count": 24,
      "outputs": [
        {
          "output_type": "display_data",
          "data": {
            "image/png": "[encoded data removed]",
            "text/plain": [
              "<matplotlib.figure.Figure at 0x7f067a4825c0>"
            ]
          },
          "metadata": {
            "tags": []
          }
        }
      ]
    },
    {
      "metadata": {
        "id": "b5aSDHLvunSB",
        "colab_type": "code",
        "colab": {}
      },
      "cell_type": "code",
      "source": [
        ""
      ],
      "execution_count": 0,
      "outputs": []
    },
    {
      "metadata": {
        "id": "dFlewi5Fu4ei",
        "colab_type": "text"
      },
      "cell_type": "markdown",
      "source": [
        "研究問題：利用政黨及里來探討投票數，政黨在不同里的投票數高低情形。\n",
        "研究方法：資料來源：中選會資料（直轄市長投票所明細）\n"
      ]
    },
    {
      "metadata": {
        "id": "ofHVzE9Sxxmj",
        "colab_type": "text"
      },
      "cell_type": "markdown",
      "source": [
        ""
      ]
    }
  ]
}